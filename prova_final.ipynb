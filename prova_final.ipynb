{
  "nbformat": 4,
  "nbformat_minor": 0,
  "metadata": {
    "colab": {
      "provenance": [],
      "authorship_tag": "ABX9TyM3ZknPuxUtWLAWBDYa4+3s",
      "include_colab_link": true
    },
    "kernelspec": {
      "name": "python3",
      "display_name": "Python 3"
    },
    "language_info": {
      "name": "python"
    }
  },
  "cells": [
    {
      "cell_type": "markdown",
      "metadata": {
        "id": "view-in-github",
        "colab_type": "text"
      },
      "source": [
        "<a href=\"https://colab.research.google.com/github/eduardamota/Data-Science-do-Zero/blob/main/prova_final.ipynb\" target=\"_parent\"><img src=\"https://colab.research.google.com/assets/colab-badge.svg\" alt=\"Open In Colab\"/></a>"
      ]
    },
    {
      "cell_type": "markdown",
      "source": [
        "PROVA FINAL MANUTENÇÃO"
      ],
      "metadata": {
        "id": "GL757Zst5CL_"
      }
    },
    {
      "cell_type": "code",
      "execution_count": 2,
      "metadata": {
        "colab": {
          "base_uri": "https://localhost:8080/"
        },
        "id": "70jBtI7e5AWT",
        "outputId": "7c6bab4e-902a-453a-a646-90515e72b8cf"
      },
      "outputs": [
        {
          "output_type": "execute_result",
          "data": {
            "text/plain": [
              "0.9816082473046843"
            ]
          },
          "metadata": {},
          "execution_count": 2
        }
      ],
      "source": [
        "from scipy.special import gamma\n",
        "import numpy as np\n",
        "\n",
        "# Dados dos componentes no formato: (η, β, MTTR)\n",
        "componentes = [\n",
        "    (1200, 1.5, 6.8),\n",
        "    (900, 2.2, 3.2),\n",
        "    (2200, 2.3, 5.2),\n",
        "    (850, 1.7, 2.0),\n",
        "    (1800, 1.9, 4.8)\n",
        "]\n",
        "\n",
        "# Calculando o MTBF para cada componente usando a distribuição Weibull\n",
        "mtbf_vals = [η * gamma(1 + 1/β) for η, β, _ in componentes]\n",
        "\n",
        "# Calculando a disponibilidade intrínseca para cada componente\n",
        "disponibilidade_vals = [mtbf / (mtbf + mttr) for mtbf, (_, _, mttr) in zip(mtbf_vals, componentes)]\n",
        "\n",
        "# Disponibilidade do sistema é o produto das disponibilidades dos componentes\n",
        "disponibilidade_sistema = np.prod(disponibilidade_vals)\n",
        "disponibilidade_sistema"
      ]
    }
  ]
}