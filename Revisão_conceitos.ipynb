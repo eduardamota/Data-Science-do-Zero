{
 "cells": [
  {
   "cell_type": "markdown",
   "id": "31f0272b",
   "metadata": {},
   "source": [
    "## Revisão - Conceitos Básicos Python "
   ]
  },
  {
   "cell_type": "code",
   "execution_count": 6,
   "id": "6bcf8b13",
   "metadata": {},
   "outputs": [],
   "source": [
    "#Boas práticas\n",
    "lista1 = [ [1,2,3], [4,5,6], [7,8,9]]\n",
    "\n",
    "lista2 = [ [1,2,3], #mais fácil de ler\n",
    "          [4,5,6], \n",
    "          [7,8,9]]\n",
    "\n",
    "soma = 2 +\\ #instrução contínua\n",
    "       3"
   ]
  },
  {
   "cell_type": "code",
   "execution_count": 8,
   "id": "1b1422bf",
   "metadata": {},
   "outputs": [
    {
     "data": {
      "text/plain": [
       "4"
      ]
     },
     "execution_count": 8,
     "metadata": {},
     "output_type": "execute_result"
    }
   ],
   "source": [
    "#Funções\n",
    "\n",
    "def double(x): \n",
    "    return x*2\n",
    "\n",
    "double(2)"
   ]
  },
  {
   "cell_type": "code",
   "execution_count": 11,
   "id": "4f778897",
   "metadata": {},
   "outputs": [
    {
     "name": "stdout",
     "output_type": "stream",
     "text": [
      "2\n"
     ]
    }
   ],
   "source": [
    "def apply(f):\n",
    "    return f(1)\n",
    "my_double = double\n",
    "x = apply(double)\n",
    "\n",
    "print(x)"
   ]
  },
  {
   "cell_type": "code",
   "execution_count": 13,
   "id": "b33b7136",
   "metadata": {},
   "outputs": [
    {
     "name": "stdout",
     "output_type": "stream",
     "text": [
      "5\n"
     ]
    }
   ],
   "source": [
    "#Funções Anônimas, as lambdas:\n",
    "y = apply(lambda x: x + 4)\n",
    "print(y)"
   ]
  },
  {
   "cell_type": "code",
   "execution_count": 15,
   "id": "9a8969b7",
   "metadata": {},
   "outputs": [
    {
     "data": {
      "text/plain": [
       "1"
      ]
     },
     "execution_count": 15,
     "metadata": {},
     "output_type": "execute_result"
    }
   ],
   "source": [
    "#Strings (Cadeia de Caracteres)\n",
    "\n",
    "single = 'data science'\n",
    "tab_string = \"\\t\" #represente o caractere tab\n",
    "len(tab_string)\n",
    "\n",
    "not_tab_string = r\"\\t\""
   ]
  },
  {
   "cell_type": "code",
   "execution_count": 18,
   "id": "5f7034a2",
   "metadata": {},
   "outputs": [
    {
     "name": "stdout",
     "output_type": "stream",
     "text": [
      "\n",
      "oi\n",
      "segunda linha\n",
      "terceria linha\n",
      "...\n",
      "\n"
     ]
    }
   ],
   "source": [
    "#Multiline string\n",
    "multi_line = \"\"\"\n",
    "oi\n",
    "segunda linha\n",
    "terceria linha\n",
    "...\n",
    "\"\"\"\n",
    "\n",
    "print(multi_line)"
   ]
  },
  {
   "cell_type": "code",
   "execution_count": 22,
   "id": "7b72515e",
   "metadata": {},
   "outputs": [],
   "source": [
    "#Substituir valores nas strings\n",
    "first_name = \"Maria\"\n",
    "last_name = \"Mota\"\n",
    "\n",
    "full_name1 = first_name + \" \" + last_name #adição\n",
    "full_name2 = \"{0}.{1}\".format(first_name,last_name) #string.format\n",
    "full_name3 = f\"{first_name}{last_name}\" #mais simples utilizando f_string\n"
   ]
  },
  {
   "cell_type": "markdown",
   "id": "7b7696e7",
   "metadata": {},
   "source": [
    "## Exceções, try e execep "
   ]
  },
  {
   "cell_type": "code",
   "execution_count": 23,
   "id": "4783ea5b",
   "metadata": {},
   "outputs": [
    {
     "name": "stdout",
     "output_type": "stream",
     "text": [
      "cannot divide by zero\n"
     ]
    }
   ],
   "source": [
    "#Exceções, try e execep\n",
    "\n",
    "try:\n",
    "    print(0 / 0)\n",
    "except ZeroDivisionError:\n",
    "    print(\"cannot divide by zero\")"
   ]
  },
  {
   "cell_type": "markdown",
   "id": "d7369d06",
   "metadata": {},
   "source": [
    "## Listas"
   ]
  },
  {
   "cell_type": "code",
   "execution_count": 24,
   "id": "37517a96",
   "metadata": {},
   "outputs": [
    {
     "name": "stdout",
     "output_type": "stream",
     "text": [
      "3\n"
     ]
    }
   ],
   "source": [
    "#Listas \n",
    "integer = [1,2,3]\n",
    "lista_len = len(integer)\n",
    "print(lista_len)"
   ]
  },
  {
   "cell_type": "code",
   "execution_count": 31,
   "id": "a6ac12c2",
   "metadata": {},
   "outputs": [
    {
     "name": "stdout",
     "output_type": "stream",
     "text": [
      "0\n",
      "1\n",
      "9\n"
     ]
    }
   ],
   "source": [
    "x = [0,1,2,3,4,5,6,7,8,9]\n",
    "print(x[0]) #elemento inicial da lista\n",
    "print(x[1]) #segundo elemento da lista\n",
    "print(x[-1]) #último elemento"
   ]
  },
  {
   "cell_type": "code",
   "execution_count": 39,
   "id": "cc194255",
   "metadata": {},
   "outputs": [
    {
     "name": "stdout",
     "output_type": "stream",
     "text": [
      "[0, 1, 2]\n",
      "[3, 4, 5, 6, 7, 8, 9]\n",
      "[7, 8, 9]\n",
      "[0, 1, 2, 3, 4, 5, 6]\n",
      "[0, 3, 6, 9]\n",
      "[5, 4, 3]\n"
     ]
    }
   ],
   "source": [
    "#Slice da lista\n",
    "print(x[:3]) # inicia do primeiro elemento da lista e finaliza no j-1\n",
    "print(x[3:]) #inicia do primeiro elemento da lista e vai o último elemento \n",
    "print(x[-3:]) #três últimos\n",
    "print(x[:-3]) #até o terceiro último\n",
    "print(x[::3]) #começa do primeiro elemento a cada intereção vai pular três elementos\n",
    "print(x[5:2:-1]) #começa do quinto elemento a cada intereção vai pular um elemento a esquerda "
   ]
  },
  {
   "cell_type": "code",
   "execution_count": 47,
   "id": "36305343",
   "metadata": {},
   "outputs": [
    {
     "name": "stdout",
     "output_type": "stream",
     "text": [
      "[1, 2, 3, 4, 5, 6]\n",
      "[1, 2, 3, 4, 5, 6, 0]\n"
     ]
    }
   ],
   "source": [
    "#Concatenar lista\n",
    "x = [1,2,3]\n",
    "x.extend([4,5,6])\n",
    "print(x)\n",
    "\n",
    "#append\n",
    "x.append(0)\n",
    "print(x)"
   ]
  },
  {
   "cell_type": "code",
   "execution_count": 49,
   "id": "18044928",
   "metadata": {},
   "outputs": [
    {
     "name": "stdout",
     "output_type": "stream",
     "text": [
      "1\n",
      "2\n"
     ]
    }
   ],
   "source": [
    "#Descompactar listas \n",
    "x,y = [1,2] #Caso não tenha o mesmo número de elementos aparecerá um erro\n",
    "print(x)\n",
    "print(y)\n",
    "\n",
    "_,z = [3,4] #Geralmente é usado sublinhado para indicar que o valor será "
   ]
  },
  {
   "cell_type": "markdown",
   "id": "4454560e",
   "metadata": {},
   "source": [
    "## Dicionários "
   ]
  },
  {
   "cell_type": "code",
   "execution_count": 50,
   "id": "555bd53d",
   "metadata": {},
   "outputs": [],
   "source": [
    "empty_dict = {}\n",
    "empty_dict2 = dict()\n",
    "grades = {\"Maria\":23, \"Alexandre\":24}"
   ]
  },
  {
   "cell_type": "code",
   "execution_count": 51,
   "id": "b4cddf7a",
   "metadata": {},
   "outputs": [
    {
     "data": {
      "text/plain": [
       "23"
      ]
     },
     "execution_count": 51,
     "metadata": {},
     "output_type": "execute_result"
    }
   ],
   "source": [
    "grades[\"Maria\"]"
   ]
  },
  {
   "cell_type": "code",
   "execution_count": 56,
   "id": "799d8bc3",
   "metadata": {},
   "outputs": [
    {
     "name": "stdout",
     "output_type": "stream",
     "text": [
      "True\n"
     ]
    }
   ],
   "source": [
    "#Verificando existência de chaves\n",
    "maria_grade = \"Maria\" in grades\n",
    "print(maria_grade)"
   ]
  },
  {
   "cell_type": "code",
   "execution_count": 61,
   "id": "7c0cbebd",
   "metadata": {},
   "outputs": [],
   "source": [
    "alexandre_grade = grades.get(\"Alexandre\",0) #Caso tenha a chave Alexandre ele retorna a chave, caso não tenha trará 0"
   ]
  },
  {
   "cell_type": "code",
   "execution_count": 62,
   "id": "d5001250",
   "metadata": {},
   "outputs": [],
   "source": [
    "#Quando nenhum valor padrão é fornecido retornamos None se a chave não existir no dicionário.\n",
    "no_one_grade = grades.get(\"No one\")"
   ]
  },
  {
   "cell_type": "code",
   "execution_count": 63,
   "id": "867f3ba3",
   "metadata": {},
   "outputs": [],
   "source": [
    "#Podemos atribuir pares de valor-chave utilizando os colchetes:\n",
    "grades[\"Tim\"] = 99\n",
    "grades[\"Kate\"] = 100"
   ]
  },
  {
   "cell_type": "code",
   "execution_count": 64,
   "id": "b232cc8d",
   "metadata": {},
   "outputs": [],
   "source": [
    "tweet= {\n",
    "    \"user\":\"eduardamotta\",\n",
    "    \"text\": \"Life is not easy\",\n",
    "    \"retweet_count\":100,\n",
    "    \"hashtags\":   [\"#life\",\"#work\",\"#days\"]\n",
    "\n",
    "}"
   ]
  },
  {
   "cell_type": "code",
   "execution_count": 72,
   "id": "033c38e6",
   "metadata": {},
   "outputs": [
    {
     "name": "stdout",
     "output_type": "stream",
     "text": [
      "dict_keys(['user', 'text', 'retweet_count', 'hashtags'])\n",
      "dict_values(['eduardamotta', 'Life is not easy', 100, ['#life', '#work', '#days']])\n",
      "dict_items([('user', 'eduardamotta'), ('text', 'Life is not easy'), ('retweet_count', 100), ('hashtags', ['#life', '#work', '#days'])])\n"
     ]
    }
   ],
   "source": [
    "tweet_keys = tweet.keys()\n",
    "print(tweet_keys)\n",
    "\n",
    "tweet_values = tweet.values()\n",
    "print(tweet_values)\n",
    "\n",
    "tweet_items = tweet.items()\n",
    "print(tweet_items)\n"
   ]
  },
  {
   "cell_type": "code",
   "execution_count": 74,
   "id": "2d2d6baa",
   "metadata": {},
   "outputs": [
    {
     "data": {
      "text/plain": [
       "True"
      ]
     },
     "execution_count": 74,
     "metadata": {},
     "output_type": "execute_result"
    }
   ],
   "source": [
    "\"user\" in tweet_keys #Não é uma boa prática\n",
    "\"user\" in tweet #Melhor prática de verificar"
   ]
  },
  {
   "cell_type": "code",
   "execution_count": 159,
   "id": "00706c6c",
   "metadata": {},
   "outputs": [
    {
     "name": "stdout",
     "output_type": "stream",
     "text": [
      "A palavra 'o' aparece 3 vezes.\n",
      "A palavra 'gato' aparece 2 vezes.\n",
      "A palavra 'corre' aparece 1 vezes.\n",
      "A palavra 'cachorro' aparece 1 vezes.\n",
      "A palavra 'late' aparece 1 vezes.\n",
      "A palavra 'mia' aparece 1 vezes.\n",
      "{'o': 3, 'gato': 2, 'corre': 1, 'cachorro': 1, 'late': 1, 'mia': 1}\n"
     ]
    }
   ],
   "source": [
    "document = \"O gato corre. O cachorro late. O gato mia.\"\n",
    "\n",
    "# Removendo pontuação e convertendo todas as palavras para minúsculas\n",
    "document = document.replace(\".\", \"\").lower()\n",
    "\n",
    "# Criando um dicionário vazio para armazenar a contagem das palavras\n",
    "word_counts = {}\n",
    "\n",
    "# Percorrendo cada palavra no documento\n",
    "for word in document.split():\n",
    "    if word in word_counts:\n",
    "        word_counts[word] += 1\n",
    "    else:\n",
    "        word_counts[word] = 1\n",
    "\n",
    "# Imprimindo a contagem das palavras\n",
    "for word, count in word_counts.items():\n",
    "    print(f\"A palavra '{word}' aparece {count} vezes.\")\n",
    "\n",
    "print(word_counts)"
   ]
  },
  {
   "cell_type": "code",
   "execution_count": 111,
   "id": "9b3254d1",
   "metadata": {},
   "outputs": [
    {
     "name": "stdout",
     "output_type": "stream",
     "text": [
      "{'o': 3, 'gato': 2, 'corre': 1, 'cachorro': 1, 'late': 1, 'mia': 1}\n"
     ]
    }
   ],
   "source": [
    "#Tratando exceção\n",
    "\n",
    "word_counts = {}\n",
    "for word in document.split():\n",
    "    try:\n",
    "        word_counts[word] += 1\n",
    "    except KeyError:\n",
    "        word_counts[word] = 1\n",
    "print(word_counts)\n"
   ]
  },
  {
   "cell_type": "code",
   "execution_count": 112,
   "id": "6d12add2",
   "metadata": {},
   "outputs": [
    {
     "name": "stdout",
     "output_type": "stream",
     "text": [
      "{'o': 3, 'gato': 2, 'corre': 1, 'cachorro': 1, 'late': 1, 'mia': 1}\n"
     ]
    }
   ],
   "source": [
    "#Usando get\n",
    "\n",
    "word_counts = {}\n",
    "for word in document.split():\n",
    "    previous_count = word_counts.get(word,0)\n",
    "    word_counts[word] = previous_count + 1\n",
    "    \n",
    "print(word_counts)"
   ]
  },
  {
   "cell_type": "code",
   "execution_count": 83,
   "id": "b27e08b2",
   "metadata": {},
   "outputs": [],
   "source": [
    "from collections import defaultdict"
   ]
  },
  {
   "cell_type": "code",
   "execution_count": 113,
   "id": "60c4041f",
   "metadata": {},
   "outputs": [],
   "source": [
    "words_counts = defaultdict(int) #int() produz 0\n",
    "for word in document.split():\n",
    "     word_counts[word] += 1"
   ]
  },
  {
   "cell_type": "code",
   "execution_count": 101,
   "id": "e328ba5d",
   "metadata": {},
   "outputs": [],
   "source": [
    "dd_list = defaultdict(list)\n",
    "dd_list[2].append(1)\n",
    "dd_list[\"Duda\"].append([1,3])\n",
    "dd_list[\"Ale\"].append([1,3])"
   ]
  },
  {
   "cell_type": "code",
   "execution_count": 102,
   "id": "5302549e",
   "metadata": {},
   "outputs": [
    {
     "data": {
      "text/plain": [
       "defaultdict(list, {2: [1], 'Duda': [[1, 3]], 'Ale': [[1, 3]]})"
      ]
     },
     "execution_count": 102,
     "metadata": {},
     "output_type": "execute_result"
    }
   ],
   "source": [
    "dd_list"
   ]
  },
  {
   "cell_type": "markdown",
   "id": "7d122c15",
   "metadata": {},
   "source": [
    "## Contadores"
   ]
  },
  {
   "cell_type": "code",
   "execution_count": 103,
   "id": "483fb473",
   "metadata": {},
   "outputs": [],
   "source": [
    "from collections import Counter"
   ]
  },
  {
   "cell_type": "code",
   "execution_count": 106,
   "id": "9dc66182",
   "metadata": {},
   "outputs": [],
   "source": [
    "c = Counter([0,1,2,0]) "
   ]
  },
  {
   "cell_type": "code",
   "execution_count": 107,
   "id": "0dc41efe",
   "metadata": {
    "scrolled": true
   },
   "outputs": [
    {
     "name": "stdout",
     "output_type": "stream",
     "text": [
      "Counter({0: 2, 1: 1, 2: 1})\n"
     ]
    }
   ],
   "source": [
    "print(c)"
   ]
  },
  {
   "cell_type": "code",
   "execution_count": 116,
   "id": "f9d7a95c",
   "metadata": {
    "scrolled": true
   },
   "outputs": [],
   "source": [
    "word_counts = Counter(document.split())#forma mais simples de resolver o word_counts"
   ]
  },
  {
   "cell_type": "code",
   "execution_count": 115,
   "id": "c002293b",
   "metadata": {
    "scrolled": true
   },
   "outputs": [
    {
     "name": "stdout",
     "output_type": "stream",
     "text": [
      "Counter({'o': 3, 'gato': 2, 'corre': 1, 'cachorro': 1, 'late': 1, 'mia': 1})\n"
     ]
    }
   ],
   "source": [
    "print(word_counts)"
   ]
  },
  {
   "cell_type": "code",
   "execution_count": 117,
   "id": "c1b9b557",
   "metadata": {},
   "outputs": [
    {
     "name": "stdout",
     "output_type": "stream",
     "text": [
      "o 3\n",
      "gato 2\n",
      "corre 1\n",
      "cachorro 1\n",
      "late 1\n",
      "mia 1\n"
     ]
    }
   ],
   "source": [
    "#Counter tem um método most_commom bastante útil, no exemplo vai imprimir as 10 palavras mais comuns\n",
    "for word, count in word_counts.most_common(10):\n",
    "    print(word, count)"
   ]
  },
  {
   "cell_type": "code",
   "execution_count": 118,
   "id": "3c116aa7",
   "metadata": {},
   "outputs": [],
   "source": [
    "primes_below_10 = {2,3,5,7} #não funciona para conjuntos vazios, pois significa dict vazio"
   ]
  },
  {
   "cell_type": "code",
   "execution_count": 119,
   "id": "e1b45c0e",
   "metadata": {},
   "outputs": [],
   "source": [
    "#O set cria um conjunto não ordenado e sem valor repetidos\n",
    "s = set() #Para conjuntos vazios, usamos o set\n",
    "s.add(1) "
   ]
  },
  {
   "cell_type": "code",
   "execution_count": 123,
   "id": "0bbddfb4",
   "metadata": {},
   "outputs": [
    {
     "name": "stdout",
     "output_type": "stream",
     "text": [
      "8\n",
      "{1, 2, 3, 4, 5, 6}\n",
      "6\n"
     ]
    }
   ],
   "source": [
    "item_list = [1,2,3,4,5,6,6,6]\n",
    "num_items = len(item_list)\n",
    "print(num_items)\n",
    "item_set = set(item_list)\n",
    "print(item_set)\n",
    "print(len(item_set))"
   ]
  },
  {
   "cell_type": "markdown",
   "id": "ce23b29c",
   "metadata": {},
   "source": [
    "## Fluxo de Controle "
   ]
  },
  {
   "cell_type": "code",
   "execution_count": 125,
   "id": "7ceca4c5",
   "metadata": {},
   "outputs": [
    {
     "name": "stdout",
     "output_type": "stream",
     "text": [
      "odd\n"
     ]
    }
   ],
   "source": [
    "parity = \"even\" if x % 2 == 0 else \"odd\"\n",
    "print(parity)"
   ]
  },
  {
   "cell_type": "code",
   "execution_count": 128,
   "id": "a5f8a143",
   "metadata": {},
   "outputs": [
    {
     "name": "stdout",
     "output_type": "stream",
     "text": [
      "0 é menor que 10\n",
      "1 é menor que 10\n",
      "2 é menor que 10\n",
      "3 é menor que 10\n",
      "4 é menor que 10\n",
      "5 é menor que 10\n",
      "6 é menor que 10\n",
      "7 é menor que 10\n",
      "8 é menor que 10\n",
      "9 é menor que 10\n"
     ]
    }
   ],
   "source": [
    "#Loop while\n",
    "x = 0\n",
    "while x < 10:\n",
    "    print(f\"{x} é menor que 10\")\n",
    "    x+=1"
   ]
  },
  {
   "cell_type": "code",
   "execution_count": 129,
   "id": "d676e589",
   "metadata": {},
   "outputs": [
    {
     "name": "stdout",
     "output_type": "stream",
     "text": [
      "0 é menor que 10\n",
      "1 é menor que 10\n",
      "2 é menor que 10\n",
      "3 é menor que 10\n",
      "4 é menor que 10\n",
      "5 é menor que 10\n",
      "6 é menor que 10\n",
      "7 é menor que 10\n",
      "8 é menor que 10\n",
      "9 é menor que 10\n"
     ]
    }
   ],
   "source": [
    "#Loop for e in\n",
    "for x in range (10):\n",
    "    print(f\"{x} é menor que 10\")"
   ]
  },
  {
   "cell_type": "code",
   "execution_count": 136,
   "id": "23668547",
   "metadata": {},
   "outputs": [
    {
     "name": "stdout",
     "output_type": "stream",
     "text": [
      "0 é menor que 10\n",
      "1 é menor que 10\n",
      "2 é menor que 10\n",
      "3 é menor que 10\n",
      "4 é menor que 10\n",
      "5 é menor que 10\n",
      "6 é menor que 10\n",
      "7 é menor que 10\n",
      "8 é menor que 10\n",
      "9 é menor que 10\n"
     ]
    }
   ],
   "source": [
    "for x in range(10):\n",
    "    if x < 10:\n",
    "        print(f\"{x} é menor que 10\")\n",
    "    else:\n",
    "        break"
   ]
  },
  {
   "cell_type": "markdown",
   "id": "beff26fb",
   "metadata": {},
   "source": [
    "## Veracidade/Booleanos "
   ]
  },
  {
   "cell_type": "code",
   "execution_count": 138,
   "id": "757b4336",
   "metadata": {},
   "outputs": [
    {
     "name": "stdout",
     "output_type": "stream",
     "text": [
      "True\n"
     ]
    }
   ],
   "source": [
    "um_menor_dois = 1 < 2\n",
    "print(um_menor_dois)"
   ]
  },
  {
   "cell_type": "code",
   "execution_count": 142,
   "id": "1c06ca34",
   "metadata": {},
   "outputs": [
    {
     "data": {
      "text/plain": [
       "True"
      ]
     },
     "execution_count": 142,
     "metadata": {},
     "output_type": "execute_result"
    }
   ],
   "source": [
    "x = None\n",
    "x == None #Não é uma boa prática\n",
    "x is None #Boa prática"
   ]
  },
  {
   "cell_type": "code",
   "execution_count": 146,
   "id": "6c2b5d28",
   "metadata": {},
   "outputs": [],
   "source": [
    "safe_x = x if x is not None else 0"
   ]
  },
  {
   "cell_type": "code",
   "execution_count": 149,
   "id": "b51124a1",
   "metadata": {},
   "outputs": [
    {
     "data": {
      "text/plain": [
       "True"
      ]
     },
     "execution_count": 149,
     "metadata": {},
     "output_type": "execute_result"
    }
   ],
   "source": [
    "all([True,1,{3}]) #all vai retornar true se todos os elementos forem verdadeiros"
   ]
  },
  {
   "cell_type": "code",
   "execution_count": 150,
   "id": "08326171",
   "metadata": {},
   "outputs": [
    {
     "data": {
      "text/plain": [
       "False"
      ]
     },
     "execution_count": 150,
     "metadata": {},
     "output_type": "execute_result"
    }
   ],
   "source": [
    "all([True,1,{}]) #Como o {} é false ele retorna false"
   ]
  },
  {
   "cell_type": "code",
   "execution_count": 151,
   "id": "69c492ec",
   "metadata": {},
   "outputs": [
    {
     "data": {
      "text/plain": [
       "True"
      ]
     },
     "execution_count": 151,
     "metadata": {},
     "output_type": "execute_result"
    }
   ],
   "source": [
    "any([True,1,{}]) #Any retorna true se pelo menos 1 elemento for true"
   ]
  },
  {
   "cell_type": "markdown",
   "id": "c8b442e7",
   "metadata": {},
   "source": [
    "## Classificação "
   ]
  },
  {
   "cell_type": "code",
   "execution_count": 153,
   "id": "824a5f9a",
   "metadata": {},
   "outputs": [
    {
     "name": "stdout",
     "output_type": "stream",
     "text": [
      "[0, 1, 3, 4, 5, 6, 9]\n"
     ]
    }
   ],
   "source": [
    "#Método sort\n",
    "x = [3,5,1,0,4,6,9]\n",
    "y = sorted(x)\n",
    "print(y)"
   ]
  },
  {
   "cell_type": "code",
   "execution_count": 156,
   "id": "fc68d0d8",
   "metadata": {},
   "outputs": [
    {
     "name": "stdout",
     "output_type": "stream",
     "text": [
      "[0, 2, 3, 4, 4, 5, 6, 7, 8, 9]\n"
     ]
    }
   ],
   "source": [
    "z =  [8,3,0,4,9,6,7,5,2,4]\n",
    "z.sort()\n",
    "print(z)"
   ]
  },
  {
   "cell_type": "code",
   "execution_count": 158,
   "id": "9127427d",
   "metadata": {},
   "outputs": [
    {
     "name": "stdout",
     "output_type": "stream",
     "text": [
      "[-4, 3, -2, 1]\n"
     ]
    }
   ],
   "source": [
    "j = sorted([-4,1,-2,3], key=abs, reverse=True)\n",
    "print(j)"
   ]
  },
  {
   "cell_type": "code",
   "execution_count": 161,
   "id": "7a26628d",
   "metadata": {},
   "outputs": [
    {
     "name": "stdout",
     "output_type": "stream",
     "text": [
      "[('o', 3), ('gato', 2), ('corre', 1), ('cachorro', 1), ('late', 1), ('mia', 1)]\n"
     ]
    }
   ],
   "source": [
    "wc = sorted(word_counts.items(),\n",
    "           key= lambda word_and_count: word_and_count[1],\n",
    "           reverse = True)\n",
    "print(wc)"
   ]
  },
  {
   "cell_type": "markdown",
   "id": "c2eae87c",
   "metadata": {},
   "source": [
    "## List comprehension"
   ]
  },
  {
   "cell_type": "code",
   "execution_count": 2,
   "id": "d80fdd90",
   "metadata": {},
   "outputs": [
    {
     "name": "stdout",
     "output_type": "stream",
     "text": [
      "[0, 2, 4, 6, 8]\n"
     ]
    }
   ],
   "source": [
    "num_par = [x for x in range(10) if x % 2 == 0]\n",
    "print(num_par)"
   ]
  },
  {
   "cell_type": "code",
   "execution_count": 4,
   "id": "da241809",
   "metadata": {},
   "outputs": [
    {
     "name": "stdout",
     "output_type": "stream",
     "text": [
      "[0, 1, 4, 9, 16, 25, 36, 49, 64, 81]\n"
     ]
    }
   ],
   "source": [
    "quadrado = [x * x for x in range(10)]\n",
    "print(quadrado)"
   ]
  },
  {
   "cell_type": "code",
   "execution_count": 5,
   "id": "6b815052",
   "metadata": {},
   "outputs": [
    {
     "name": "stdout",
     "output_type": "stream",
     "text": [
      "[0, 4, 16, 36, 64]\n"
     ]
    }
   ],
   "source": [
    "num_par_quadrado = [x * x for x in num_par]\n",
    "print(num_par_quadrado)"
   ]
  },
  {
   "cell_type": "code",
   "execution_count": 7,
   "id": "1b01044b",
   "metadata": {},
   "outputs": [
    {
     "name": "stdout",
     "output_type": "stream",
     "text": [
      "{0: 0, 1: 1, 2: 4, 3: 9, 4: 16, 5: 25, 6: 36, 7: 49, 8: 64, 9: 81}\n"
     ]
    }
   ],
   "source": [
    "quadrado_dict = {x: x*x for x in range(10)}\n",
    "print(quadrado_dict)"
   ]
  },
  {
   "cell_type": "code",
   "execution_count": 10,
   "id": "9694a0ef",
   "metadata": {},
   "outputs": [
    {
     "name": "stdout",
     "output_type": "stream",
     "text": [
      "{25}\n"
     ]
    }
   ],
   "source": [
    "quadrado_set = {x*x for x in [-5,5]}\n",
    "print(quadrado_set)"
   ]
  },
  {
   "cell_type": "code",
   "execution_count": 11,
   "id": "3daebd94",
   "metadata": {},
   "outputs": [
    {
     "name": "stdout",
     "output_type": "stream",
     "text": [
      "[0, 0, 0, 0, 0]\n"
     ]
    }
   ],
   "source": [
    "zeros = [0 for _ in num_par] #tem o mesmo tamanho da num_par, vai por 0 em cada elemento da num_par\n",
    "print(zeros)"
   ]
  },
  {
   "cell_type": "code",
   "execution_count": 16,
   "id": "96040647",
   "metadata": {},
   "outputs": [
    {
     "name": "stdout",
     "output_type": "stream",
     "text": [
      "[(0, 5), (0, 6), (0, 7), (0, 8), (0, 9), (1, 6), (1, 7), (1, 8), (1, 9), (2, 7), (2, 8), (2, 9), (3, 8), (3, 9), (4, 9)]\n"
     ]
    }
   ],
   "source": [
    "pairs = [(x,y) for x in range(10) for y in range(x+5,10)]\n",
    "print(pairs)"
   ]
  },
  {
   "cell_type": "markdown",
   "id": "5e88b5f7",
   "metadata": {},
   "source": [
    "## Testes Automatizados e asserção "
   ]
  },
  {
   "cell_type": "code",
   "execution_count": 21,
   "id": "0dedcac7",
   "metadata": {},
   "outputs": [],
   "source": [
    "def menor_item(xs):\n",
    "    return min(xs)\n",
    "assert menor_item([1,20,5,0,8]) == 0\n",
    "assert menor_item([1,-25,5,0,-8]) == -25 #caso não tenha retorno sabemos que as afirmações são verdadeiras"
   ]
  },
  {
   "cell_type": "code",
   "execution_count": 22,
   "id": "330269f3",
   "metadata": {},
   "outputs": [],
   "source": [
    "def smallest_item(xs):\n",
    "    assert xs, \"lista vazia não existe valor mínimo\"\n",
    "    return min(xs)"
   ]
  },
  {
   "cell_type": "markdown",
   "id": "09f2275a",
   "metadata": {},
   "source": [
    "## POO - Programação Orientada a Objetos"
   ]
  },
  {
   "cell_type": "code",
   "execution_count": 23,
   "id": "2fbb0928",
   "metadata": {},
   "outputs": [],
   "source": [
    "class ContagemClique:\n",
    "    \"\"\"Cliques de usuários\"\"\""
   ]
  },
  {
   "cell_type": "code",
   "execution_count": 52,
   "id": "a635ba1f",
   "metadata": {},
   "outputs": [],
   "source": [
    "#Por padrão cada função recebe primeiro parâmetro self\n",
    "#Em geral a classe tem um construtor chamado __init__ que vai receber os parâmetros\n",
    "\n",
    "def __init__ (self, count = 0):\n",
    "    self.count = count"
   ]
  },
  {
   "cell_type": "code",
   "execution_count": 60,
   "id": "822e99ca",
   "metadata": {},
   "outputs": [],
   "source": [
    "clicker = ContagemClique()"
   ]
  },
  {
   "cell_type": "code",
   "execution_count": 54,
   "id": "99acb4c4",
   "metadata": {},
   "outputs": [],
   "source": [
    "def __repr__ (self):\n",
    "    return f\"ContagemClique(count = {self.count})\""
   ]
  },
  {
   "cell_type": "code",
   "execution_count": 66,
   "id": "50454fab",
   "metadata": {},
   "outputs": [],
   "source": [
    "def click(self,num_times =1):\n",
    "    \"\"\"Clique no contador algumas vezes\"\"\"\n",
    "    self.count += num_times\n",
    "    \n",
    "def read(self):\n",
    "    return self.count\n",
    "def reset (self):\n",
    "    self.count =0"
   ]
  },
  {
   "cell_type": "code",
   "execution_count": 69,
   "id": "9ec77ddf",
   "metadata": {},
   "outputs": [],
   "source": [
    "clicker = ContagemClique()\n",
    "assert clicker.count == 0"
   ]
  },
  {
   "cell_type": "markdown",
   "id": "92d8c92a",
   "metadata": {},
   "source": [
    "## Iteráveis e Geradores "
   ]
  },
  {
   "cell_type": "code",
   "execution_count": 85,
   "id": "6592f50b",
   "metadata": {},
   "outputs": [],
   "source": [
    "def generate_range(n):\n",
    "    i = 0\n",
    "    while i<n:\n",
    "        yield i\n",
    "        i +=1\n"
   ]
  },
  {
   "cell_type": "code",
   "execution_count": 90,
   "id": "3a4401a3",
   "metadata": {},
   "outputs": [
    {
     "name": "stdout",
     "output_type": "stream",
     "text": [
      "i: 0\n",
      "i: 1\n",
      "i: 2\n",
      "i: 3\n",
      "i: 4\n"
     ]
    }
   ],
   "source": [
    "for i in generate_range(5):\n",
    "    print(f\"i: {i}\")"
   ]
  },
  {
   "cell_type": "code",
   "execution_count": 92,
   "id": "dcc73f6e",
   "metadata": {},
   "outputs": [],
   "source": [
    "def natural_numbers ():\n",
    "    n = 1\n",
    "    while true:\n",
    "        yield n\n",
    "        n +=1"
   ]
  },
  {
   "cell_type": "code",
   "execution_count": 94,
   "id": "8d965f4c",
   "metadata": {},
   "outputs": [],
   "source": [
    "data = natural_numbers ()\n",
    "evens= (x for x in data if x % 2 == 0)"
   ]
  },
  {
   "cell_type": "code",
   "execution_count": 95,
   "id": "ad211998",
   "metadata": {},
   "outputs": [],
   "source": [
    "nomes = ['Duda', 'Ale', 'Bia', 'Madu']"
   ]
  },
  {
   "cell_type": "code",
   "execution_count": 96,
   "id": "7bf8ab09",
   "metadata": {},
   "outputs": [
    {
     "name": "stdout",
     "output_type": "stream",
     "text": [
      "name 0 is Duda\n",
      "name 1 is Ale\n",
      "name 2 is Bia\n",
      "name 3 is Madu\n"
     ]
    }
   ],
   "source": [
    "for i, name in enumerate(nomes):\n",
    "    print(f\"name {i} is {name}\")"
   ]
  },
  {
   "cell_type": "markdown",
   "id": "42a93d05",
   "metadata": {},
   "source": [
    "## Aleatoriedade "
   ]
  },
  {
   "cell_type": "code",
   "execution_count": 100,
   "id": "4129f9c7",
   "metadata": {},
   "outputs": [
    {
     "name": "stdout",
     "output_type": "stream",
     "text": [
      "[0.5714025946899135, 0.4288890546751146, 0.5780913011344704, 0.20609823213950174]\n"
     ]
    }
   ],
   "source": [
    "import random\n",
    "random.seed(10)\n",
    "\n",
    "randoms_uniformes = [random.random() for _ in range(4)]\n",
    "print(randoms_uniformes)"
   ]
  },
  {
   "cell_type": "code",
   "execution_count": 102,
   "id": "d2890aed",
   "metadata": {},
   "outputs": [
    {
     "data": {
      "text/plain": [
       "4"
      ]
     },
     "execution_count": 102,
     "metadata": {},
     "output_type": "execute_result"
    }
   ],
   "source": [
    "random.randrange(10) # escolhe aleatoriamente entre valores de 0 a 9"
   ]
  },
  {
   "cell_type": "code",
   "execution_count": 115,
   "id": "e61ee635",
   "metadata": {},
   "outputs": [
    {
     "data": {
      "text/plain": [
       "6"
      ]
     },
     "execution_count": 115,
     "metadata": {},
     "output_type": "execute_result"
    }
   ],
   "source": [
    "random.randrange(3,10) # escolhe aleatoriamente entre valores de 3 a 9"
   ]
  },
  {
   "cell_type": "code",
   "execution_count": 116,
   "id": "2bffc997",
   "metadata": {},
   "outputs": [],
   "source": [
    "lista = [1,2,3,4,5,6,7,8,9,10]"
   ]
  },
  {
   "cell_type": "code",
   "execution_count": 121,
   "id": "f32c06b4",
   "metadata": {},
   "outputs": [
    {
     "name": "stdout",
     "output_type": "stream",
     "text": [
      "[6, 8, 4, 2, 7, 3, 1, 10, 9, 5]\n"
     ]
    }
   ],
   "source": [
    "random.shuffle(lista) #reordena aleatoriamente os elementos da lista\n",
    "print(lista)"
   ]
  },
  {
   "cell_type": "code",
   "execution_count": 126,
   "id": "d9eae122",
   "metadata": {},
   "outputs": [
    {
     "name": "stdout",
     "output_type": "stream",
     "text": [
      "5\n"
     ]
    }
   ],
   "source": [
    "#Escolhendo aleatoriamente o elemento de uma lista\n",
    "escolha_aleatoria = random.choice(lista)\n",
    "print(escolha_aleatoria)"
   ]
  },
  {
   "cell_type": "code",
   "execution_count": 130,
   "id": "90081487",
   "metadata": {},
   "outputs": [
    {
     "name": "stdout",
     "output_type": "stream",
     "text": [
      "[28, 15, 43, 17, 9, 39]\n"
     ]
    }
   ],
   "source": [
    "#Escolhendo aleatoriamente uma amostra de elementos sem repetição\n",
    "numeros_loteria = range(60)\n",
    "numeros_ganhadores = random.sample(numeros_loteria,6)\n",
    "print(numeros_ganhadores)"
   ]
  },
  {
   "cell_type": "code",
   "execution_count": 132,
   "id": "0d19b06d",
   "metadata": {},
   "outputs": [
    {
     "name": "stdout",
     "output_type": "stream",
     "text": [
      "[7, 4, 2, 2]\n"
     ]
    }
   ],
   "source": [
    "#Escolhendo amostra de elementos com substituição com repetição\n",
    "quatro_com_repeticao = [random.choice(range(10)) for _ in range(4)]\n",
    "print(quatro_com_repeticao)"
   ]
  }
 ],
 "metadata": {
  "kernelspec": {
   "display_name": "Python 3 (ipykernel)",
   "language": "python",
   "name": "python3"
  },
  "language_info": {
   "codemirror_mode": {
    "name": "ipython",
    "version": 3
   },
   "file_extension": ".py",
   "mimetype": "text/x-python",
   "name": "python",
   "nbconvert_exporter": "python",
   "pygments_lexer": "ipython3",
   "version": "3.11.3"
  }
 },
 "nbformat": 4,
 "nbformat_minor": 5
}
