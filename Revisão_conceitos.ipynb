{
 "cells": [
  {
   "cell_type": "markdown",
   "id": "934fbff1",
   "metadata": {},
   "source": [
    "## Revisão - Conceitos Básicos Python "
   ]
  },
  {
   "cell_type": "code",
   "execution_count": 6,
   "id": "6278238f",
   "metadata": {},
   "outputs": [],
   "source": [
    "#Boas práticas\n",
    "lista1 = [ [1,2,3], [4,5,6], [7,8,9]]\n",
    "\n",
    "lista2 = [ [1,2,3], #mais fácil de ler\n",
    "          [4,5,6], \n",
    "          [7,8,9]]\n",
    "\n",
    "soma = 2 +\\ #instrução contínua\n",
    "       3"
   ]
  },
  {
   "cell_type": "code",
   "execution_count": 8,
   "id": "655021c2",
   "metadata": {},
   "outputs": [
    {
     "data": {
      "text/plain": [
       "4"
      ]
     },
     "execution_count": 8,
     "metadata": {},
     "output_type": "execute_result"
    }
   ],
   "source": [
    "#Funções\n",
    "\n",
    "def double(x): \n",
    "    return x*2\n",
    "\n",
    "double(2)"
   ]
  },
  {
   "cell_type": "code",
   "execution_count": 11,
   "id": "8ca23dca",
   "metadata": {},
   "outputs": [
    {
     "name": "stdout",
     "output_type": "stream",
     "text": [
      "2\n"
     ]
    }
   ],
   "source": [
    "def apply(f):\n",
    "    return f(1)\n",
    "my_double = double\n",
    "x = apply(double)\n",
    "\n",
    "print(x)"
   ]
  },
  {
   "cell_type": "code",
   "execution_count": 13,
   "id": "eb722921",
   "metadata": {},
   "outputs": [
    {
     "name": "stdout",
     "output_type": "stream",
     "text": [
      "5\n"
     ]
    }
   ],
   "source": [
    "#Funções Anônimas, as lambdas:\n",
    "y = apply(lambda x: x + 4)\n",
    "print(y)"
   ]
  },
  {
   "cell_type": "code",
   "execution_count": 15,
   "id": "07b304cd",
   "metadata": {},
   "outputs": [
    {
     "data": {
      "text/plain": [
       "1"
      ]
     },
     "execution_count": 15,
     "metadata": {},
     "output_type": "execute_result"
    }
   ],
   "source": [
    "#Strings (Cadeia de Caracteres)\n",
    "\n",
    "single = 'data science'\n",
    "tab_string = \"\\t\" #represente o caractere tab\n",
    "len(tab_string)\n",
    "\n",
    "not_tab_string = r\"\\t\""
   ]
  },
  {
   "cell_type": "code",
   "execution_count": 18,
   "id": "d4603c44",
   "metadata": {},
   "outputs": [
    {
     "name": "stdout",
     "output_type": "stream",
     "text": [
      "\n",
      "oi\n",
      "segunda linha\n",
      "terceria linha\n",
      "...\n",
      "\n"
     ]
    }
   ],
   "source": [
    "#Multiline string\n",
    "multi_line = \"\"\"\n",
    "oi\n",
    "segunda linha\n",
    "terceria linha\n",
    "...\n",
    "\"\"\"\n",
    "\n",
    "print(multi_line)"
   ]
  },
  {
   "cell_type": "code",
   "execution_count": 22,
   "id": "f81e2753",
   "metadata": {},
   "outputs": [],
   "source": [
    "#Substituir valores nas strings\n",
    "first_name = \"Maria\"\n",
    "last_name = \"Mota\"\n",
    "\n",
    "full_name1 = first_name + \" \" + last_name #adição\n",
    "full_name2 = \"{0}.{1}\".format(first_name,last_name) #string.format\n",
    "full_name3 = f\"{first_name}{last_name}\" #mais simples utilizando f_string\n"
   ]
  },
  {
   "cell_type": "markdown",
   "id": "42aad156",
   "metadata": {},
   "source": [
    "## Exceções, try e execep "
   ]
  },
  {
   "cell_type": "code",
   "execution_count": 23,
   "id": "308365e4",
   "metadata": {},
   "outputs": [
    {
     "name": "stdout",
     "output_type": "stream",
     "text": [
      "cannot divide by zero\n"
     ]
    }
   ],
   "source": [
    "#Exceções, try e execep\n",
    "\n",
    "try:\n",
    "    print(0 / 0)\n",
    "except ZeroDivisionError:\n",
    "    print(\"cannot divide by zero\")"
   ]
  },
  {
   "cell_type": "markdown",
   "id": "2b73389c",
   "metadata": {},
   "source": [
    "## Listas"
   ]
  },
  {
   "cell_type": "code",
   "execution_count": 24,
   "id": "e4c2a9d4",
   "metadata": {},
   "outputs": [
    {
     "name": "stdout",
     "output_type": "stream",
     "text": [
      "3\n"
     ]
    }
   ],
   "source": [
    "#Listas \n",
    "integer = [1,2,3]\n",
    "lista_len = len(integer)\n",
    "print(lista_len)"
   ]
  },
  {
   "cell_type": "code",
   "execution_count": 31,
   "id": "f9a31dfc",
   "metadata": {},
   "outputs": [
    {
     "name": "stdout",
     "output_type": "stream",
     "text": [
      "0\n",
      "1\n",
      "9\n"
     ]
    }
   ],
   "source": [
    "x = [0,1,2,3,4,5,6,7,8,9]\n",
    "print(x[0]) #elemento inicial da lista\n",
    "print(x[1]) #segundo elemento da lista\n",
    "print(x[-1]) #último elemento"
   ]
  },
  {
   "cell_type": "code",
   "execution_count": 39,
   "id": "b3274d53",
   "metadata": {},
   "outputs": [
    {
     "name": "stdout",
     "output_type": "stream",
     "text": [
      "[0, 1, 2]\n",
      "[3, 4, 5, 6, 7, 8, 9]\n",
      "[7, 8, 9]\n",
      "[0, 1, 2, 3, 4, 5, 6]\n",
      "[0, 3, 6, 9]\n",
      "[5, 4, 3]\n"
     ]
    }
   ],
   "source": [
    "#Slice da lista\n",
    "print(x[:3]) # inicia do primeiro elemento da lista e finaliza no j-1\n",
    "print(x[3:]) #inicia do primeiro elemento da lista e vai o último elemento \n",
    "print(x[-3:]) #três últimos\n",
    "print(x[:-3]) #até o terceiro último\n",
    "print(x[::3]) #começa do primeiro elemento a cada intereção vai pular três elementos\n",
    "print(x[5:2:-1]) #começa do quinto elemento a cada intereção vai pular um elemento a esquerda "
   ]
  },
  {
   "cell_type": "code",
   "execution_count": 47,
   "id": "5198f2b8",
   "metadata": {},
   "outputs": [
    {
     "name": "stdout",
     "output_type": "stream",
     "text": [
      "[1, 2, 3, 4, 5, 6]\n",
      "[1, 2, 3, 4, 5, 6, 0]\n"
     ]
    }
   ],
   "source": [
    "#Concatenar lista\n",
    "x = [1,2,3]\n",
    "x.extend([4,5,6])\n",
    "print(x)\n",
    "\n",
    "#append\n",
    "x.append(0)\n",
    "print(x)"
   ]
  },
  {
   "cell_type": "code",
   "execution_count": 49,
   "id": "67dc5611",
   "metadata": {},
   "outputs": [
    {
     "name": "stdout",
     "output_type": "stream",
     "text": [
      "1\n",
      "2\n"
     ]
    }
   ],
   "source": [
    "#Descompactar listas \n",
    "x,y = [1,2] #Caso não tenha o mesmo número de elementos aparecerá um erro\n",
    "print(x)\n",
    "print(y)\n",
    "\n",
    "_,z = [3,4] #Geralmente é usado sublinhado para indicar que o valor será "
   ]
  },
  {
   "cell_type": "markdown",
   "id": "1754c404",
   "metadata": {},
   "source": [
    "## Dicionários "
   ]
  },
  {
   "cell_type": "code",
   "execution_count": 50,
   "id": "48bf14cf",
   "metadata": {},
   "outputs": [],
   "source": [
    "empty_dict = {}\n",
    "empty_dict2 = dict()\n",
    "grades = {\"Maria\":23, \"Alexandre\":24}"
   ]
  },
  {
   "cell_type": "code",
   "execution_count": 51,
   "id": "5cf4a554",
   "metadata": {},
   "outputs": [
    {
     "data": {
      "text/plain": [
       "23"
      ]
     },
     "execution_count": 51,
     "metadata": {},
     "output_type": "execute_result"
    }
   ],
   "source": [
    "grades[\"Maria\"]"
   ]
  },
  {
   "cell_type": "code",
   "execution_count": 56,
   "id": "1e29dc3e",
   "metadata": {},
   "outputs": [
    {
     "name": "stdout",
     "output_type": "stream",
     "text": [
      "True\n"
     ]
    }
   ],
   "source": [
    "#Verificando existência de chaves\n",
    "maria_grade = \"Maria\" in grades\n",
    "print(maria_grade)"
   ]
  },
  {
   "cell_type": "code",
   "execution_count": 61,
   "id": "d220b609",
   "metadata": {},
   "outputs": [],
   "source": [
    "alexandre_grade = grades.get(\"Alexandre\",0) #Caso tenha a chave Alexandre ele retorna a chave, caso não tenha trará 0"
   ]
  },
  {
   "cell_type": "code",
   "execution_count": 62,
   "id": "9b47a30d",
   "metadata": {},
   "outputs": [],
   "source": [
    "#Quando nenhum valor padrão é fornecido retornamos None se a chave não existir no dicionário.\n",
    "no_one_grade = grades.get(\"No one\")"
   ]
  },
  {
   "cell_type": "code",
   "execution_count": 63,
   "id": "ea925af4",
   "metadata": {},
   "outputs": [],
   "source": [
    "#Podemos atribuir pares de valor-chave utilizando os colchetes:\n",
    "grades[\"Tim\"] = 99\n",
    "grades[\"Kate\"] = 100"
   ]
  },
  {
   "cell_type": "code",
   "execution_count": 64,
   "id": "2c20c925",
   "metadata": {},
   "outputs": [],
   "source": [
    "tweet= {\n",
    "    \"user\":\"eduardamotta\",\n",
    "    \"text\": \"Life is not easy\",\n",
    "    \"retweet_count\":100,\n",
    "    \"hashtags\":   [\"#life\",\"#work\",\"#days\"]\n",
    "\n",
    "}"
   ]
  },
  {
   "cell_type": "code",
   "execution_count": 72,
   "id": "1982f8cd",
   "metadata": {},
   "outputs": [
    {
     "name": "stdout",
     "output_type": "stream",
     "text": [
      "dict_keys(['user', 'text', 'retweet_count', 'hashtags'])\n",
      "dict_values(['eduardamotta', 'Life is not easy', 100, ['#life', '#work', '#days']])\n",
      "dict_items([('user', 'eduardamotta'), ('text', 'Life is not easy'), ('retweet_count', 100), ('hashtags', ['#life', '#work', '#days'])])\n"
     ]
    }
   ],
   "source": [
    "tweet_keys = tweet.keys()\n",
    "print(tweet_keys)\n",
    "\n",
    "tweet_values = tweet.values()\n",
    "print(tweet_values)\n",
    "\n",
    "tweet_items = tweet.items()\n",
    "print(tweet_items)\n"
   ]
  },
  {
   "cell_type": "code",
   "execution_count": 74,
   "id": "ff091570",
   "metadata": {},
   "outputs": [
    {
     "data": {
      "text/plain": [
       "True"
      ]
     },
     "execution_count": 74,
     "metadata": {},
     "output_type": "execute_result"
    }
   ],
   "source": [
    "\"user\" in tweet_keys #Não é uma boa prática\n",
    "\"user\" in tweet #Melhor prática de verificar"
   ]
  },
  {
   "cell_type": "code",
   "execution_count": 76,
   "id": "8abcf8fa",
   "metadata": {},
   "outputs": [
    {
     "name": "stdout",
     "output_type": "stream",
     "text": [
      "A palavra 'o' aparece 3 vezes.\n",
      "A palavra 'gato' aparece 2 vezes.\n",
      "A palavra 'corre' aparece 1 vezes.\n",
      "A palavra 'cachorro' aparece 1 vezes.\n",
      "A palavra 'late' aparece 1 vezes.\n",
      "A palavra 'mia' aparece 1 vezes.\n",
      "{'o': 3, 'gato': 2, 'corre': 1, 'cachorro': 1, 'late': 1, 'mia': 1}\n"
     ]
    }
   ],
   "source": [
    "document = \"O gato corre. O cachorro late. O gato mia.\"\n",
    "\n",
    "# Removendo pontuação e convertendo todas as palavras para minúsculas\n",
    "document = document.replace(\".\", \"\").lower()\n",
    "\n",
    "# Criando um dicionário vazio para armazenar a contagem das palavras\n",
    "word_counts = {}\n",
    "\n",
    "# Percorrendo cada palavra no documento\n",
    "for word in document.split():\n",
    "    if word in word_counts:\n",
    "        word_counts[word] += 1\n",
    "    else:\n",
    "        word_counts[word] = 1\n",
    "\n",
    "# Imprimindo a contagem das palavras\n",
    "for word, count in word_counts.items():\n",
    "    print(f\"A palavra '{word}' aparece {count} vezes.\")\n",
    "\n",
    "print(word_counts)"
   ]
  },
  {
   "cell_type": "code",
   "execution_count": 80,
   "id": "e32666fb",
   "metadata": {},
   "outputs": [
    {
     "name": "stdout",
     "output_type": "stream",
     "text": [
      "{'o': 3, 'gato': 2, 'corre': 1, 'cachorro': 1, 'late': 1, 'mia': 1}\n"
     ]
    }
   ],
   "source": [
    "#Tratando exceção\n",
    "\n",
    "word_counts = {}\n",
    "for word in document.split():\n",
    "    try:\n",
    "        word_counts[word] += 1\n",
    "    except KeyError:\n",
    "        word_counts[word] = 1\n",
    "print(word_counts)\n"
   ]
  },
  {
   "cell_type": "code",
   "execution_count": 82,
   "id": "c110c8e9",
   "metadata": {},
   "outputs": [
    {
     "name": "stdout",
     "output_type": "stream",
     "text": [
      "{'o': 3, 'gato': 2, 'corre': 1, 'cachorro': 1, 'late': 1, 'mia': 1}\n"
     ]
    }
   ],
   "source": [
    "#Usando get\n",
    "\n",
    "word_counts = {}\n",
    "for word in document.split():\n",
    "    previous_count = word_counts.get(word,0)\n",
    "    word_counts[word] = previous_count + 1\n",
    "    \n",
    "print(word_counts)"
   ]
  },
  {
   "cell_type": "code",
   "execution_count": 83,
   "id": "1fb72b24",
   "metadata": {},
   "outputs": [],
   "source": [
    "from collections import defaultdict"
   ]
  },
  {
   "cell_type": "code",
   "execution_count": 89,
   "id": "85fe804b",
   "metadata": {},
   "outputs": [],
   "source": [
    "words_counts = defaultdict(int) #int() produz 0\n",
    "for word in document.split():\n",
    "     word_counts[word] += 1"
   ]
  },
  {
   "cell_type": "code",
   "execution_count": 101,
   "id": "570b943c",
   "metadata": {},
   "outputs": [],
   "source": [
    "dd_list = defaultdict(list)\n",
    "dd_list[2].append(1)\n",
    "dd_list[\"Duda\"].append([1,3])\n",
    "dd_list[\"Ale\"].append([1,3])"
   ]
  },
  {
   "cell_type": "code",
   "execution_count": 102,
   "id": "20f02e40",
   "metadata": {},
   "outputs": [
    {
     "data": {
      "text/plain": [
       "defaultdict(list, {2: [1], 'Duda': [[1, 3]], 'Ale': [[1, 3]]})"
      ]
     },
     "execution_count": 102,
     "metadata": {},
     "output_type": "execute_result"
    }
   ],
   "source": [
    "dd_list"
   ]
  }
 ],
 "metadata": {
  "kernelspec": {
   "display_name": "Python 3 (ipykernel)",
   "language": "python",
   "name": "python3"
  },
  "language_info": {
   "codemirror_mode": {
    "name": "ipython",
    "version": 3
   },
   "file_extension": ".py",
   "mimetype": "text/x-python",
   "name": "python",
   "nbconvert_exporter": "python",
   "pygments_lexer": "ipython3",
   "version": "3.11.3"
  }
 },
 "nbformat": 4,
 "nbformat_minor": 5
}
